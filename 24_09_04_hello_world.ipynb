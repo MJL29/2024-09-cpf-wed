{
  "nbformat": 4,
  "nbformat_minor": 0,
  "metadata": {
    "colab": {
      "provenance": []
    },
    "kernelspec": {
      "name": "python3",
      "display_name": "Python 3"
    },
    "language_info": {
      "name": "python"
    }
  },
  "cells": [
    {
      "cell_type": "code",
      "execution_count": null,
      "metadata": {
        "id": "btytFuiURNwm"
      },
      "outputs": [],
      "source": [
        "print(\"Hello World\")"
      ]
    },
    {
      "cell_type": "code",
      "source": [
        "print(\"Hello  Python\")"
      ],
      "metadata": {
        "id": "BHDm010dRXhJ"
      },
      "execution_count": null,
      "outputs": []
    },
    {
      "cell_type": "code",
      "source": [
        "print('\"hello world\"')\n"
      ],
      "metadata": {
        "id": "BE5iTZU4YFvo"
      },
      "execution_count": null,
      "outputs": []
    },
    {
      "cell_type": "code",
      "source": [
        "import pylab as py\n",
        "\n",
        "x_deg = py.arange(-180, 180+1,)\n",
        "x_rad = py.deg2rad(x_deg)\n",
        "y = py.sin(x_rad)\n",
        "\n",
        "py.plot(x_deg, y)\n",
        "\n",
        "py.xlabel('x(deg)')\n",
        "py.ylabel('sin(X)')\n",
        "py.grid(True)"
      ],
      "metadata": {
        "id": "fXurAQixYKch"
      },
      "execution_count": null,
      "outputs": []
    },
    {
      "cell_type": "code",
      "source": [],
      "metadata": {
        "id": "5vRHZNYneSI2"
      },
      "execution_count": null,
      "outputs": []
    }
  ]
}